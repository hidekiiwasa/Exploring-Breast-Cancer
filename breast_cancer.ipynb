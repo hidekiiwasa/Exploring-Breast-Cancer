{
 "cells": [
  {
   "cell_type": "markdown",
   "metadata": {},
   "source": [
    "# Felipe Hideki - RM983232\n",
    "# Enzo Vasconcelos - RM550702\n",
    "# Guilherme Milheiro - RM550295"
   ]
  },
  {
   "cell_type": "code",
   "execution_count": 78,
   "metadata": {},
   "outputs": [],
   "source": [
    "import pandas as pd\n",
    "import matplotlib.pyplot as plt\n",
    "from sklearn.model_selection import train_test_split\n",
    "from sklearn.ensemble import RandomForestClassifier, RandomForestRegressor\n",
    "from sklearn.preprocessing import LabelEncoder\n",
    "from sklearn.metrics import accuracy_score, mean_squared_error"
   ]
  },
  {
   "cell_type": "code",
   "execution_count": 79,
   "metadata": {},
   "outputs": [
    {
     "name": "stdout",
     "output_type": "stream",
     "text": [
      "   S/N  Year  Age  Menopause Tumor Size (cm) Inv-Nodes Breast Metastasis  \\\n",
      "0    1  2019   40          1               2         0  Right          0   \n",
      "1    2  2019   39          1               2         0   Left          0   \n",
      "2    3  2019   45          0               4         0   Left          0   \n",
      "3    4  2019   26          1               3         0   Left          0   \n",
      "4    5  2019   21          1               1         0  Right          0   \n",
      "\n",
      "  Breast Quadrant History Diagnosis Result  \n",
      "0     Upper inner       0           Benign  \n",
      "1     Upper outer       0           Benign  \n",
      "2     Lower outer       0           Benign  \n",
      "3     Lower inner       1           Benign  \n",
      "4     Upper outer       1           Benign  \n"
     ]
    }
   ],
   "source": [
    "dataset = pd.read_csv('breast-cancer-dataset.csv')\n",
    "print(dataset.head())\n",
    "dataset = dataset[dataset['Breast Quadrant']!='#']\n",
    "dataset = dataset[dataset['History']!='#']\n",
    "dataset = dataset[dataset['History']!='#']"
   ]
  },
  {
   "cell_type": "code",
   "execution_count": null,
   "metadata": {
    "collapsed": true,
    "jupyter": {
     "outputs_hidden": true
    }
   },
   "outputs": [
    {
     "data": {
      "text/html": [
       "<div>\n",
       "<style scoped>\n",
       "    .dataframe tbody tr th:only-of-type {\n",
       "        vertical-align: middle;\n",
       "    }\n",
       "\n",
       "    .dataframe tbody tr th {\n",
       "        vertical-align: top;\n",
       "    }\n",
       "\n",
       "    .dataframe thead th {\n",
       "        text-align: right;\n",
       "    }\n",
       "</style>\n",
       "<table border=\"1\" class=\"dataframe\">\n",
       "  <thead>\n",
       "    <tr style=\"text-align: right;\">\n",
       "      <th>Diagnosis Result</th>\n",
       "      <th>Benign</th>\n",
       "      <th>Malignant</th>\n",
       "    </tr>\n",
       "    <tr>\n",
       "      <th>Breast Quadrant</th>\n",
       "      <th></th>\n",
       "      <th></th>\n",
       "    </tr>\n",
       "  </thead>\n",
       "  <tbody>\n",
       "    <tr>\n",
       "      <th>Lower inner</th>\n",
       "      <td>35</td>\n",
       "      <td>9</td>\n",
       "    </tr>\n",
       "    <tr>\n",
       "      <th>Lower outer</th>\n",
       "      <td>35</td>\n",
       "      <td>18</td>\n",
       "    </tr>\n",
       "    <tr>\n",
       "      <th>Upper inner</th>\n",
       "      <td>24</td>\n",
       "      <td>21</td>\n",
       "    </tr>\n",
       "    <tr>\n",
       "      <th>Upper outer</th>\n",
       "      <td>24</td>\n",
       "      <td>43</td>\n",
       "    </tr>\n",
       "    <tr>\n",
       "      <th>Upper outer</th>\n",
       "      <td>1</td>\n",
       "      <td>0</td>\n",
       "    </tr>\n",
       "  </tbody>\n",
       "</table>\n",
       "</div>"
      ],
      "text/plain": [
       "Diagnosis Result  Benign  Malignant\n",
       "Breast Quadrant                    \n",
       "Lower inner           35          9\n",
       "Lower outer           35         18\n",
       "Upper inner           24         21\n",
       "Upper outer           24         43\n",
       "Upper outer            1          0"
      ]
     },
     "execution_count": 80,
     "metadata": {},
     "output_type": "execute_result"
    }
   ],
   "source": [
    "#Como os quadrantes se relacionam com o lado da mama?\n",
    "\n",
    "pd.crosstab(dataset['Breast Quadrant'],dataset['Diagnosis Result'])"
   ]
  },
  {
   "cell_type": "markdown",
   "metadata": {},
   "source": [
    "A tabela mostra o número de casos Benignos e Malignos em cada quadrante da mama.\n",
    "\n",
    "Upper outer tem o maior número de casos malignos, o que sugere que este quadrante pode ter uma maior chance a desenvolver tumores malignos em comparação com os outros quadrantes.\n",
    "Upper inner também apresenta um número significativo de casos malignos, mas muito menos do que o superior externo. \n",
    "Em todos os quadrantes, é possível observar que a maioria dos casos são benignos."
   ]
  },
  {
   "cell_type": "code",
   "execution_count": 81,
   "metadata": {},
   "outputs": [
    {
     "data": {
      "text/plain": [
       "0.3523809523809524"
      ]
     },
     "execution_count": 81,
     "metadata": {},
     "output_type": "execute_result"
    }
   ],
   "source": [
    "#Qual a média geral de nodulos por paciente?\n",
    "\n",
    "dataset['Inv-Nodes'] = dataset['Inv-Nodes'].astype(int)\n",
    "dataset['Inv-Nodes'].mean()"
   ]
  },
  {
   "cell_type": "markdown",
   "metadata": {},
   "source": [
    "Essa média mostra que não apresenta nódulos metastáticos, já que a média é inferior a 1. Isso pode indicar que muitos pacientes têm um diagnóstico inicial sem metástase nos linfonodos.\n",
    "Um número baixo de nódulos pode ser um sinal positivo, indicando que os casos de câncer detectados são, em geral, menos avançados ou que as metástases não são comuns na amostra analisada."
   ]
  },
  {
   "cell_type": "code",
   "execution_count": 82,
   "metadata": {},
   "outputs": [
    {
     "data": {
      "text/plain": [
       "4.261904761904762"
      ]
     },
     "execution_count": 82,
     "metadata": {},
     "output_type": "execute_result"
    }
   ],
   "source": [
    "#Qual a média geral do tamanho do tumor por paciente?\n",
    "\n",
    "dataset['Tumor Size (cm)'] = dataset['Tumor Size (cm)'].astype(int)\n",
    "dataset['Tumor Size (cm)'].mean()\n",
    "\n"
   ]
  },
  {
   "cell_type": "markdown",
   "metadata": {},
   "source": [
    "Esse tamanho é bem grande para um tumor, tumores com esse tamanho podem estar em estágios mais avançados, dependendo da classificação e do tipo de câncer.\n",
    "Em geral, tumores maiores podem estar associados a um prognóstico menos favorável. Tumores de maior dimensão podem indicar um crescimento mais agressivo e, muitas vezes, uma maior probabilidade de metástase."
   ]
  },
  {
   "cell_type": "code",
   "execution_count": 84,
   "metadata": {},
   "outputs": [
    {
     "data": {
      "text/plain": [
       "Breast\n",
       "Left     105\n",
       "Right    100\n",
       "#          5\n",
       "Name: count, dtype: int64"
      ]
     },
     "execution_count": 84,
     "metadata": {},
     "output_type": "execute_result"
    }
   ],
   "source": [
    "#Existem mais pessoas com tumores do lado direito ou esquerdo?\n",
    "\n",
    "dataset['Breast'].value_counts()\n",
    "\n"
   ]
  },
  {
   "cell_type": "markdown",
   "metadata": {},
   "source": [
    "Isso pode sugerir uma leve tendência ou predisposição para o desenvolvimento de tumores no lado esquerdo na população analisada."
   ]
  },
  {
   "cell_type": "code",
   "execution_count": 85,
   "metadata": {},
   "outputs": [
    {
     "data": {
      "text/plain": [
       "32.67142857142857"
      ]
     },
     "execution_count": 85,
     "metadata": {},
     "output_type": "execute_result"
    }
   ],
   "source": [
    "#Qual a média de idade para pessoas que entraram na menopausa?\n",
    "\n",
    "base_menopausa = dataset[(dataset['Menopause']==1)]\n",
    "base_menopausa['Age'].mean()\n",
    "\n"
   ]
  },
  {
   "cell_type": "markdown",
   "metadata": {},
   "source": [
    "Uma média de 32 anos para a menopausa é considerada bastante precoce, já que a idade média de início da menopausa para a maioria das mulheres geralmente ocorre entre 45 e 55 anos. \n",
    "A menopausa precoce pode estar associada a várias condições de saúde, como fatores genéticos, problemas hormonais, ou condições de saúde subjacentes."
   ]
  },
  {
   "cell_type": "code",
   "execution_count": 86,
   "metadata": {},
   "outputs": [
    {
     "data": {
      "image/png": "[encoded data removed]",
      "text/plain": [
       "<Figure size 800x400 with 1 Axes>"
      ]
     },
     "metadata": {},
     "output_type": "display_data"
    }
   ],
   "source": [
    "#Qual o ano em que mais pessoas tiveram tumor? \n",
    "contagem_ano = dataset.groupby('Year')['Age'].count()\n",
    "\n",
    "# Gráfico\n",
    "plt.figure(figsize=(8, 4))\n",
    "contagem_ano.plot(kind='bar', color='deepskyblue')\n",
    "plt.ylabel('Número de Pacientes')\n",
    "plt.title('Contagem de Pacientes por Ano')\n",
    "plt.xticks(rotation=0)\n",
    "plt.show()"
   ]
  },
  {
   "cell_type": "code",
   "execution_count": 89,
   "metadata": {},
   "outputs": [
    {
     "data": {
      "text/html": [
       "<div>\n",
       "<style scoped>\n",
       "    .dataframe tbody tr th:only-of-type {\n",
       "        vertical-align: middle;\n",
       "    }\n",
       "\n",
       "    .dataframe tbody tr th {\n",
       "        vertical-align: top;\n",
       "    }\n",
       "\n",
       "    .dataframe thead th {\n",
       "        text-align: right;\n",
       "    }\n",
       "</style>\n",
       "<table border=\"1\" class=\"dataframe\">\n",
       "  <thead>\n",
       "    <tr style=\"text-align: right;\">\n",
       "      <th>Breast</th>\n",
       "      <th>#</th>\n",
       "      <th>Left</th>\n",
       "      <th>Right</th>\n",
       "    </tr>\n",
       "    <tr>\n",
       "      <th>Breast Quadrant</th>\n",
       "      <th></th>\n",
       "      <th></th>\n",
       "      <th></th>\n",
       "    </tr>\n",
       "  </thead>\n",
       "  <tbody>\n",
       "    <tr>\n",
       "      <th>Lower inner</th>\n",
       "      <td>1</td>\n",
       "      <td>23</td>\n",
       "      <td>20</td>\n",
       "    </tr>\n",
       "    <tr>\n",
       "      <th>Lower outer</th>\n",
       "      <td>1</td>\n",
       "      <td>28</td>\n",
       "      <td>24</td>\n",
       "    </tr>\n",
       "    <tr>\n",
       "      <th>Upper inner</th>\n",
       "      <td>1</td>\n",
       "      <td>21</td>\n",
       "      <td>23</td>\n",
       "    </tr>\n",
       "    <tr>\n",
       "      <th>Upper outer</th>\n",
       "      <td>2</td>\n",
       "      <td>33</td>\n",
       "      <td>32</td>\n",
       "    </tr>\n",
       "    <tr>\n",
       "      <th>Upper outer</th>\n",
       "      <td>0</td>\n",
       "      <td>0</td>\n",
       "      <td>1</td>\n",
       "    </tr>\n",
       "  </tbody>\n",
       "</table>\n",
       "</div>"
      ],
      "text/plain": [
       "Breast           #  Left  Right\n",
       "Breast Quadrant                \n",
       "Lower inner      1    23     20\n",
       "Lower outer      1    28     24\n",
       "Upper inner      1    21     23\n",
       "Upper outer      2    33     32\n",
       "Upper outer      0     0      1"
      ]
     },
     "execution_count": 89,
     "metadata": {},
     "output_type": "execute_result"
    }
   ],
   "source": [
    "#Como os quadrantes se relacionam com o lado da mama? Use a tabela de contingência.\n",
    "\n",
    "pd.crosstab(dataset['Breast Quadrant'],dataset['Breast'])"
   ]
  },
  {
   "cell_type": "markdown",
   "metadata": {},
   "source": [
    "Upper outer parece ser uma área bem comum para o desenvolvimento de tumores.\n",
    "Em geral, a distribuição entre os lados parece bastante equilibrada em todos os quadrantes. No entanto, o quadrante superior externo é o mais frequente, o que pode indicar uma predisposição ou fatores de risco associados a esse quadrante.\n",
    "A relação entre a localização do tumor e o lado da mama pode ser importante para determinar o risco e a necessidade de triagem adicional. Tumores em quadrantes específicos podem ter diferentes implicações para o tratamento."
   ]
  },
  {
   "cell_type": "code",
   "execution_count": null,
   "metadata": {},
   "outputs": [
    {
     "data": {
      "text/plain": [
       "<BarContainer object of 5 artists>"
      ]
     },
     "execution_count": 87,
     "metadata": {},
     "output_type": "execute_result"
    },
    {
     "data": {
      "image/png": "[encoded data removed]",
      "text/plain": [
       "<Figure size 640x480 with 1 Axes>"
      ]
     },
     "metadata": {},
     "output_type": "display_data"
    }
   ],
   "source": [
    "#Como os quadrantes estão distribuídos?\n",
    "\n",
    "plt.bar(dataset['Breast Quadrant'].value_counts().index, dataset['Breast Quadrant'].value_counts().values)"
   ]
  },
  {
   "cell_type": "code",
   "execution_count": 76,
   "metadata": {},
   "outputs": [],
   "source": [
    "# Preparação dos dados\n",
    "dataset['Breast'] = LabelEncoder().fit_transform(dataset['Breast'])\n",
    "dataset['Breast Quadrant'] = LabelEncoder().fit_transform(dataset['Breast Quadrant'])\n",
    "dataset['Diagnosis Result'] = LabelEncoder().fit_transform(dataset['Diagnosis Result'])\n",
    "\n",
    "# Separação dos dados\n",
    "X_class = dataset.drop(columns=['Diagnosis Result'])\n",
    "y_class = dataset['Diagnosis Result']\n",
    "X_reg = dataset.drop(columns=['Tumor Size (cm)'])\n",
    "y_reg = dataset['Tumor Size (cm)']\n",
    "\n",
    "X_train_class, X_test_class, y_train_class, y_test_class = train_test_split(X_class, y_class, test_size=0.2, random_state=42)\n",
    "X_train_reg, X_test_reg, y_train_reg, y_test_reg = train_test_split(X_reg, y_reg, test_size=0.2, random_state=42)"
   ]
  },
  {
   "cell_type": "code",
   "execution_count": 21,
   "metadata": {},
   "outputs": [
    {
     "name": "stdout",
     "output_type": "stream",
     "text": [
      "Precisão: 0.9047619047619048\n"
     ]
    }
   ],
   "source": [
    "# Classificação\n",
    "clf = RandomForestClassifier()\n",
    "clf.fit(X_train_class, y_train_class)\n",
    "y_pred_class = clf.predict(X_test_class)\n",
    "print(f'Precisão: {accuracy_score(y_test_class, y_pred_class)}')"
   ]
  },
  {
   "cell_type": "code",
   "execution_count": 22,
   "metadata": {},
   "outputs": [
    {
     "name": "stdout",
     "output_type": "stream",
     "text": [
      "MSE (erro quadrático médio): 2.6279309523809524\n"
     ]
    }
   ],
   "source": [
    "reg = RandomForestRegressor()\n",
    "reg.fit(X_train_reg, y_train_reg)\n",
    "y_pred_reg = reg.predict(X_test_reg)\n",
    "print(f'MSE (erro quadrático médio): {mean_squared_error(y_test_reg, y_pred_reg)}')"
   ]
  },
  {
   "cell_type": "markdown",
   "metadata": {},
   "source": [
    "Em resumo, a análise dos dados fornece uma visão abrangente das características dos tumores de mama em sua população de estudo. Esses insights podem ajudar a melhorar a triagem, diagnóstico e tratamento, além de fomentar discussões sobre saúde pública e políticas de prevenção."
   ]
  }
 ],
 "metadata": {
  "kernelspec": {
   "display_name": "Python 3",
   "language": "python",
   "name": "python3"
  },
  "language_info": {
   "codemirror_mode": {
    "name": "ipython",
    "version": 3
   },
   "file_extension": ".py",
   "mimetype": "text/x-python",
   "name": "python",
   "nbconvert_exporter": "python",
   "pygments_lexer": "ipython3",
   "version": "3.12.1"
  }
 },
 "nbformat": 4,
 "nbformat_minor": 4
}
